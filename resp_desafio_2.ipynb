{
  "nbformat": 4,
  "nbformat_minor": 0,
  "metadata": {
    "colab": {
      "provenance": [],
      "collapsed_sections": []
    },
    "kernelspec": {
      "name": "python3",
      "display_name": "Python 3"
    },
    "language_info": {
      "name": "python"
    }
  },
  "cells": [
    {
      "cell_type": "code",
      "execution_count": 2,
      "metadata": {
        "id": "LnmdYDAbJtme"
      },
      "outputs": [],
      "source": [
        "import pandas as pd"
      ]
    },
    {
      "cell_type": "code",
      "source": [
        "rating = pd.read_csv(\"/content/ratings.csv\",usecols=['userId','movieId'])\n",
        "movies = pd.read_csv(\"/content/movies.csv\",usecols=['movieId','title'])\n",
        "df = rating.merge(movies,how='inner',on='movieId')\n",
        "df.drop(columns=['movieId'],inplace=True)"
      ],
      "metadata": {
        "id": "U1n6P2i0KQkh"
      },
      "execution_count": 20,
      "outputs": []
    },
    {
      "cell_type": "code",
      "source": [
        "df= df.sort_values('userId')\n",
        "df.drop_duplicates(inplace=True)"
      ],
      "metadata": {
        "id": "gdUYNV2Di7vN"
      },
      "execution_count": 24,
      "outputs": []
    },
    {
      "cell_type": "code",
      "source": [
        "df"
      ],
      "metadata": {
        "id": "ko6ejpB1mYAE"
      },
      "execution_count": null,
      "outputs": []
    },
    {
      "cell_type": "markdown",
      "source": [
        "### 11. Quantos usuários distintos existem no dataset de ratings?"
      ],
      "metadata": {
        "id": "aAYwHAVaTYSp"
      }
    },
    {
      "cell_type": "code",
      "source": [
        "rating = pd.read_csv(\"/content/ratings.csv\")\n",
        "len(rating.userId.unique())"
      ],
      "metadata": {
        "colab": {
          "base_uri": "https://localhost:8080/"
        },
        "id": "j2aiBQnKKiA7",
        "outputId": "e761c439-617d-4e3c-ecbe-4753995cb118"
      },
      "execution_count": 11,
      "outputs": [
        {
          "output_type": "execute_result",
          "data": {
            "text/plain": [
              "610"
            ]
          },
          "metadata": {},
          "execution_count": 11
        }
      ]
    },
    {
      "cell_type": "markdown",
      "source": [
        "### 12. Através algoritmo apriori gere os itens mais frequentes após a junção dos datasets. Utilize o parâmetro min_support=0.3 e responda: qual a é quantidade de itens frequentes foram criados?"
      ],
      "metadata": {
        "id": "eHXonrDzTbWA"
      }
    },
    {
      "cell_type": "code",
      "source": [
        "from mlxtend.frequent_patterns import apriori, association_rules\n",
        "df['visto'] = 1\n",
        "df_1 = df.pivot(index=\"userId\", columns='title',values='visto')\n",
        "df_1 = df_1.astype(str)\n",
        "df_1 = df_1.replace('1.0','1')\n",
        "df_1 = df_1.replace('nan','0')\n",
        "df_1 = df_1.astype(int)"
      ],
      "metadata": {
        "id": "apWwYyc1irys"
      },
      "execution_count": 26,
      "outputs": []
    },
    {
      "cell_type": "code",
      "source": [
        "frq_items = apriori(df_1, min_support = 0.3, use_colnames = True)\n",
        "len(frq_items)"
      ],
      "metadata": {
        "colab": {
          "base_uri": "https://localhost:8080/"
        },
        "id": "jwMmzx_1m9f9",
        "outputId": "317e648c-58de-40f7-f4f8-dba79e15208d"
      },
      "execution_count": 28,
      "outputs": [
        {
          "output_type": "execute_result",
          "data": {
            "text/plain": [
              "39"
            ]
          },
          "metadata": {},
          "execution_count": 28
        }
      ]
    },
    {
      "cell_type": "markdown",
      "source": [
        "### 13. Qual o ID do usuário que mais assistiu filmes?"
      ],
      "metadata": {
        "id": "rZCphavsKoaY"
      }
    },
    {
      "cell_type": "code",
      "source": [
        "rating = pd.read_csv(\"/content/ratings.csv\")\n",
        "rating.groupby('userId').count().sort_values('movieId')"
      ],
      "metadata": {
        "colab": {
          "base_uri": "https://localhost:8080/",
          "height": 455
        },
        "id": "HVaUnk_mKu1o",
        "outputId": "7ea3c25a-1e02-4452-e48c-5d55fcb2caf3"
      },
      "execution_count": null,
      "outputs": [
        {
          "output_type": "execute_result",
          "data": {
            "text/plain": [
              "        movieId  rating  timestamp\n",
              "userId                            \n",
              "442          20      20         20\n",
              "406          20      20         20\n",
              "147          20      20         20\n",
              "194          20      20         20\n",
              "569          20      20         20\n",
              "...         ...     ...        ...\n",
              "274        1346    1346       1346\n",
              "448        1864    1864       1864\n",
              "474        2108    2108       2108\n",
              "599        2478    2478       2478\n",
              "414        2698    2698       2698\n",
              "\n",
              "[610 rows x 3 columns]"
            ],
            "text/html": [
              "\n",
              "  <div id=\"df-54ad5223-e84f-4de2-a434-f28502502473\">\n",
              "    <div class=\"colab-df-container\">\n",
              "      <div>\n",
              "<style scoped>\n",
              "    .dataframe tbody tr th:only-of-type {\n",
              "        vertical-align: middle;\n",
              "    }\n",
              "\n",
              "    .dataframe tbody tr th {\n",
              "        vertical-align: top;\n",
              "    }\n",
              "\n",
              "    .dataframe thead th {\n",
              "        text-align: right;\n",
              "    }\n",
              "</style>\n",
              "<table border=\"1\" class=\"dataframe\">\n",
              "  <thead>\n",
              "    <tr style=\"text-align: right;\">\n",
              "      <th></th>\n",
              "      <th>movieId</th>\n",
              "      <th>rating</th>\n",
              "      <th>timestamp</th>\n",
              "    </tr>\n",
              "    <tr>\n",
              "      <th>userId</th>\n",
              "      <th></th>\n",
              "      <th></th>\n",
              "      <th></th>\n",
              "    </tr>\n",
              "  </thead>\n",
              "  <tbody>\n",
              "    <tr>\n",
              "      <th>442</th>\n",
              "      <td>20</td>\n",
              "      <td>20</td>\n",
              "      <td>20</td>\n",
              "    </tr>\n",
              "    <tr>\n",
              "      <th>406</th>\n",
              "      <td>20</td>\n",
              "      <td>20</td>\n",
              "      <td>20</td>\n",
              "    </tr>\n",
              "    <tr>\n",
              "      <th>147</th>\n",
              "      <td>20</td>\n",
              "      <td>20</td>\n",
              "      <td>20</td>\n",
              "    </tr>\n",
              "    <tr>\n",
              "      <th>194</th>\n",
              "      <td>20</td>\n",
              "      <td>20</td>\n",
              "      <td>20</td>\n",
              "    </tr>\n",
              "    <tr>\n",
              "      <th>569</th>\n",
              "      <td>20</td>\n",
              "      <td>20</td>\n",
              "      <td>20</td>\n",
              "    </tr>\n",
              "    <tr>\n",
              "      <th>...</th>\n",
              "      <td>...</td>\n",
              "      <td>...</td>\n",
              "      <td>...</td>\n",
              "    </tr>\n",
              "    <tr>\n",
              "      <th>274</th>\n",
              "      <td>1346</td>\n",
              "      <td>1346</td>\n",
              "      <td>1346</td>\n",
              "    </tr>\n",
              "    <tr>\n",
              "      <th>448</th>\n",
              "      <td>1864</td>\n",
              "      <td>1864</td>\n",
              "      <td>1864</td>\n",
              "    </tr>\n",
              "    <tr>\n",
              "      <th>474</th>\n",
              "      <td>2108</td>\n",
              "      <td>2108</td>\n",
              "      <td>2108</td>\n",
              "    </tr>\n",
              "    <tr>\n",
              "      <th>599</th>\n",
              "      <td>2478</td>\n",
              "      <td>2478</td>\n",
              "      <td>2478</td>\n",
              "    </tr>\n",
              "    <tr>\n",
              "      <th>414</th>\n",
              "      <td>2698</td>\n",
              "      <td>2698</td>\n",
              "      <td>2698</td>\n",
              "    </tr>\n",
              "  </tbody>\n",
              "</table>\n",
              "<p>610 rows × 3 columns</p>\n",
              "</div>\n",
              "      <button class=\"colab-df-convert\" onclick=\"convertToInteractive('df-54ad5223-e84f-4de2-a434-f28502502473')\"\n",
              "              title=\"Convert this dataframe to an interactive table.\"\n",
              "              style=\"display:none;\">\n",
              "        \n",
              "  <svg xmlns=\"http://www.w3.org/2000/svg\" height=\"24px\"viewBox=\"0 0 24 24\"\n",
              "       width=\"24px\">\n",
              "    <path d=\"M0 0h24v24H0V0z\" fill=\"none\"/>\n",
              "    <path d=\"M18.56 5.44l.94 2.06.94-2.06 2.06-.94-2.06-.94-.94-2.06-.94 2.06-2.06.94zm-11 1L8.5 8.5l.94-2.06 2.06-.94-2.06-.94L8.5 2.5l-.94 2.06-2.06.94zm10 10l.94 2.06.94-2.06 2.06-.94-2.06-.94-.94-2.06-.94 2.06-2.06.94z\"/><path d=\"M17.41 7.96l-1.37-1.37c-.4-.4-.92-.59-1.43-.59-.52 0-1.04.2-1.43.59L10.3 9.45l-7.72 7.72c-.78.78-.78 2.05 0 2.83L4 21.41c.39.39.9.59 1.41.59.51 0 1.02-.2 1.41-.59l7.78-7.78 2.81-2.81c.8-.78.8-2.07 0-2.86zM5.41 20L4 18.59l7.72-7.72 1.47 1.35L5.41 20z\"/>\n",
              "  </svg>\n",
              "      </button>\n",
              "      \n",
              "  <style>\n",
              "    .colab-df-container {\n",
              "      display:flex;\n",
              "      flex-wrap:wrap;\n",
              "      gap: 12px;\n",
              "    }\n",
              "\n",
              "    .colab-df-convert {\n",
              "      background-color: #E8F0FE;\n",
              "      border: none;\n",
              "      border-radius: 50%;\n",
              "      cursor: pointer;\n",
              "      display: none;\n",
              "      fill: #1967D2;\n",
              "      height: 32px;\n",
              "      padding: 0 0 0 0;\n",
              "      width: 32px;\n",
              "    }\n",
              "\n",
              "    .colab-df-convert:hover {\n",
              "      background-color: #E2EBFA;\n",
              "      box-shadow: 0px 1px 2px rgba(60, 64, 67, 0.3), 0px 1px 3px 1px rgba(60, 64, 67, 0.15);\n",
              "      fill: #174EA6;\n",
              "    }\n",
              "\n",
              "    [theme=dark] .colab-df-convert {\n",
              "      background-color: #3B4455;\n",
              "      fill: #D2E3FC;\n",
              "    }\n",
              "\n",
              "    [theme=dark] .colab-df-convert:hover {\n",
              "      background-color: #434B5C;\n",
              "      box-shadow: 0px 1px 3px 1px rgba(0, 0, 0, 0.15);\n",
              "      filter: drop-shadow(0px 1px 2px rgba(0, 0, 0, 0.3));\n",
              "      fill: #FFFFFF;\n",
              "    }\n",
              "  </style>\n",
              "\n",
              "      <script>\n",
              "        const buttonEl =\n",
              "          document.querySelector('#df-54ad5223-e84f-4de2-a434-f28502502473 button.colab-df-convert');\n",
              "        buttonEl.style.display =\n",
              "          google.colab.kernel.accessAllowed ? 'block' : 'none';\n",
              "\n",
              "        async function convertToInteractive(key) {\n",
              "          const element = document.querySelector('#df-54ad5223-e84f-4de2-a434-f28502502473');\n",
              "          const dataTable =\n",
              "            await google.colab.kernel.invokeFunction('convertToInteractive',\n",
              "                                                     [key], {});\n",
              "          if (!dataTable) return;\n",
              "\n",
              "          const docLinkHtml = 'Like what you see? Visit the ' +\n",
              "            '<a target=\"_blank\" href=https://colab.research.google.com/notebooks/data_table.ipynb>data table notebook</a>'\n",
              "            + ' to learn more about interactive tables.';\n",
              "          element.innerHTML = '';\n",
              "          dataTable['output_type'] = 'display_data';\n",
              "          await google.colab.output.renderOutput(dataTable, element);\n",
              "          const docLink = document.createElement('div');\n",
              "          docLink.innerHTML = docLinkHtml;\n",
              "          element.appendChild(docLink);\n",
              "        }\n",
              "      </script>\n",
              "    </div>\n",
              "  </div>\n",
              "  "
            ]
          },
          "metadata": {},
          "execution_count": 235
        }
      ]
    },
    {
      "cell_type": "markdown",
      "source": [
        "### 14. Utilize o algoritmo association_rules, crie as regras de associação considerando, metric='confidence' e min_threshold=0.7 e responda: qual regra possui maior confiança?"
      ],
      "metadata": {
        "id": "7ybuFrZAoBZW"
      }
    },
    {
      "cell_type": "code",
      "source": [
        "frq_items = apriori(df_1, min_support = 0.3, use_colnames = True)\n",
        "rules = association_rules(frq_items, metric =\"confidence\", min_threshold = 0.7)\n",
        "#rules = rules.sort_values(['confidence', 'lift'], ascending =[False, False])\n",
        "print(rules)"
      ],
      "metadata": {
        "colab": {
          "base_uri": "https://localhost:8080/"
        },
        "id": "TsnfeGh-6PDL",
        "outputId": "c498dd36-829f-4982-8b31-5ded90e67bd2"
      },
      "execution_count": 33,
      "outputs": [
        {
          "output_type": "stream",
          "name": "stdout",
          "text": [
            "                                          antecedents  \\\n",
            "0                                 (Braveheart (1995))   \n",
            "1                              (Jurassic Park (1993))   \n",
            "2                               (Pulp Fiction (1994))   \n",
            "3                               (Forrest Gump (1994))   \n",
            "4                  (Shawshank Redemption, The (1994))   \n",
            "5                  (Silence of the Lambs, The (1991))   \n",
            "6         (Star Wars: Episode IV - A New Hope (1977))   \n",
            "7                               (Pulp Fiction (1994))   \n",
            "8                  (Shawshank Redemption, The (1994))   \n",
            "9                  (Silence of the Lambs, The (1991))   \n",
            "10                 (Silence of the Lambs, The (1991))   \n",
            "11        (Star Wars: Episode IV - A New Hope (1977))   \n",
            "12  (Star Wars: Episode V - The Empire Strikes Bac...   \n",
            "\n",
            "                                          consequents  antecedent support  \\\n",
            "0                               (Forrest Gump (1994))            0.388525   \n",
            "1                               (Forrest Gump (1994))            0.390164   \n",
            "2                               (Forrest Gump (1994))            0.503279   \n",
            "3                  (Shawshank Redemption, The (1994))            0.539344   \n",
            "4                               (Forrest Gump (1994))            0.519672   \n",
            "5                               (Forrest Gump (1994))            0.457377   \n",
            "6                                (Matrix, The (1999))            0.411475   \n",
            "7                  (Shawshank Redemption, The (1994))            0.503279   \n",
            "8                               (Pulp Fiction (1994))            0.519672   \n",
            "9                               (Pulp Fiction (1994))            0.457377   \n",
            "10                 (Shawshank Redemption, The (1994))            0.457377   \n",
            "11  (Star Wars: Episode V - The Empire Strikes Bac...            0.411475   \n",
            "12        (Star Wars: Episode IV - A New Hope (1977))            0.345902   \n",
            "\n",
            "    consequent support   support  confidence      lift  leverage  conviction  \n",
            "0             0.539344  0.300000    0.772152  1.431649  0.090451    2.021767  \n",
            "1             0.539344  0.324590    0.831933  1.542489  0.114157    2.740902  \n",
            "2             0.539344  0.377049    0.749186  1.389068  0.105609    1.836640  \n",
            "3             0.519672  0.378689    0.702128  1.351097  0.098406    1.612529  \n",
            "4             0.539344  0.378689    0.728707  1.351097  0.098406    1.697998  \n",
            "5             0.539344  0.326230    0.713262  1.322461  0.079546    1.606537  \n",
            "6             0.455738  0.300000    0.729084  1.599788  0.112475    2.008968  \n",
            "7             0.519672  0.363934    0.723127  1.391506  0.102395    1.734831  \n",
            "8             0.503279  0.363934    0.700315  1.391506  0.102395    1.657481  \n",
            "9             0.503279  0.339344    0.741935  1.474204  0.109156    1.924795  \n",
            "10            0.519672  0.326230    0.713262  1.372522  0.088543    1.675143  \n",
            "11            0.345902  0.311475    0.756972  2.188403  0.169145    2.691454  \n",
            "12            0.411475  0.311475    0.900474  2.188403  0.169145    5.913271  \n"
          ]
        }
      ]
    },
    {
      "cell_type": "markdown",
      "source": [
        "### 15. Qual o suporte da regra: Se (Pulp Fiction (1994)) então (Forrest Gump (1994))?"
      ],
      "metadata": {
        "id": "1Ao-N5OMpDGg"
      }
    },
    {
      "cell_type": "code",
      "source": [
        "frq_items = apriori(df_1, min_support = 0.3, use_colnames = True)\n",
        "rules = association_rules(frq_items, metric =\"confidence\", min_threshold = 0.7)\n",
        "#rules = rules.sort_values(['confidence', 'lift'], ascending =[False, False])\n",
        "print(rules)"
      ],
      "metadata": {
        "colab": {
          "base_uri": "https://localhost:8080/"
        },
        "id": "B_sHcuSlpATh",
        "outputId": "6ee81c8b-0d79-413d-991b-ad05253f0954"
      },
      "execution_count": 34,
      "outputs": [
        {
          "output_type": "stream",
          "name": "stdout",
          "text": [
            "                                          antecedents  \\\n",
            "0                                 (Braveheart (1995))   \n",
            "1                              (Jurassic Park (1993))   \n",
            "2                               (Pulp Fiction (1994))   \n",
            "3                               (Forrest Gump (1994))   \n",
            "4                  (Shawshank Redemption, The (1994))   \n",
            "5                  (Silence of the Lambs, The (1991))   \n",
            "6         (Star Wars: Episode IV - A New Hope (1977))   \n",
            "7                               (Pulp Fiction (1994))   \n",
            "8                  (Shawshank Redemption, The (1994))   \n",
            "9                  (Silence of the Lambs, The (1991))   \n",
            "10                 (Silence of the Lambs, The (1991))   \n",
            "11        (Star Wars: Episode IV - A New Hope (1977))   \n",
            "12  (Star Wars: Episode V - The Empire Strikes Bac...   \n",
            "\n",
            "                                          consequents  antecedent support  \\\n",
            "0                               (Forrest Gump (1994))            0.388525   \n",
            "1                               (Forrest Gump (1994))            0.390164   \n",
            "2                               (Forrest Gump (1994))            0.503279   \n",
            "3                  (Shawshank Redemption, The (1994))            0.539344   \n",
            "4                               (Forrest Gump (1994))            0.519672   \n",
            "5                               (Forrest Gump (1994))            0.457377   \n",
            "6                                (Matrix, The (1999))            0.411475   \n",
            "7                  (Shawshank Redemption, The (1994))            0.503279   \n",
            "8                               (Pulp Fiction (1994))            0.519672   \n",
            "9                               (Pulp Fiction (1994))            0.457377   \n",
            "10                 (Shawshank Redemption, The (1994))            0.457377   \n",
            "11  (Star Wars: Episode V - The Empire Strikes Bac...            0.411475   \n",
            "12        (Star Wars: Episode IV - A New Hope (1977))            0.345902   \n",
            "\n",
            "    consequent support   support  confidence      lift  leverage  conviction  \n",
            "0             0.539344  0.300000    0.772152  1.431649  0.090451    2.021767  \n",
            "1             0.539344  0.324590    0.831933  1.542489  0.114157    2.740902  \n",
            "2             0.539344  0.377049    0.749186  1.389068  0.105609    1.836640  \n",
            "3             0.519672  0.378689    0.702128  1.351097  0.098406    1.612529  \n",
            "4             0.539344  0.378689    0.728707  1.351097  0.098406    1.697998  \n",
            "5             0.539344  0.326230    0.713262  1.322461  0.079546    1.606537  \n",
            "6             0.455738  0.300000    0.729084  1.599788  0.112475    2.008968  \n",
            "7             0.519672  0.363934    0.723127  1.391506  0.102395    1.734831  \n",
            "8             0.503279  0.363934    0.700315  1.391506  0.102395    1.657481  \n",
            "9             0.503279  0.339344    0.741935  1.474204  0.109156    1.924795  \n",
            "10            0.519672  0.326230    0.713262  1.372522  0.088543    1.675143  \n",
            "11            0.345902  0.311475    0.756972  2.188403  0.169145    2.691454  \n",
            "12            0.411475  0.311475    0.900474  2.188403  0.169145    5.913271  \n"
          ]
        }
      ]
    }
  ]
}
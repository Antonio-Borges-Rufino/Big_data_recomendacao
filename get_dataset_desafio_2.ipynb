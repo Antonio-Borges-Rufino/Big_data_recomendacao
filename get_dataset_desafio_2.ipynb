{
  "nbformat": 4,
  "nbformat_minor": 0,
  "metadata": {
    "colab": {
      "provenance": []
    },
    "kernelspec": {
      "name": "python3",
      "display_name": "Python 3"
    },
    "language_info": {
      "name": "python"
    }
  },
  "cells": [
    {
      "cell_type": "code",
      "execution_count": 3,
      "metadata": {
        "id": "XQ-OB3y-jF-u"
      },
      "outputs": [],
      "source": [
        "import pandas as pd"
      ]
    },
    {
      "cell_type": "code",
      "source": [
        "!wget https://raw.githubusercontent.com/ProfLeandroLessa/desafio-final-ABD/master/datasets/movies.csv\n",
        "!wget https://raw.githubusercontent.com/ProfLeandroLessa/desafio-final-ABD/master/datasets/ratings.csv"
      ],
      "metadata": {
        "id": "N0Z4q-EijqS-"
      },
      "execution_count": null,
      "outputs": []
    },
    {
      "cell_type": "code",
      "source": [
        "df_movies = pd.read_csv(\"/content/movies.csv\")\n",
        "df_ratings = pd.read_csv(\"/content/ratings.csv\")"
      ],
      "metadata": {
        "id": "3KhKRyvxkEf-"
      },
      "execution_count": 6,
      "outputs": []
    },
    {
      "cell_type": "code",
      "source": [
        "df_ratings.isnull().sum()"
      ],
      "metadata": {
        "colab": {
          "base_uri": "https://localhost:8080/"
        },
        "id": "imTtjx6ckRyv",
        "outputId": "7c109e81-cb81-4e99-8b99-cb7ad13f14d3"
      },
      "execution_count": 8,
      "outputs": [
        {
          "output_type": "execute_result",
          "data": {
            "text/plain": [
              "userId       0\n",
              "movieId      0\n",
              "rating       0\n",
              "timestamp    0\n",
              "dtype: int64"
            ]
          },
          "metadata": {},
          "execution_count": 8
        }
      ]
    },
    {
      "cell_type": "code",
      "source": [
        "df_movies.isnull().sum()"
      ],
      "metadata": {
        "colab": {
          "base_uri": "https://localhost:8080/"
        },
        "id": "MH1zDyHzkmJo",
        "outputId": "fc42d54b-a70b-49c6-b0e7-16b8fd601ddf"
      },
      "execution_count": 9,
      "outputs": [
        {
          "output_type": "execute_result",
          "data": {
            "text/plain": [
              "movieId    0\n",
              "title      0\n",
              "genres     0\n",
              "dtype: int64"
            ]
          },
          "metadata": {},
          "execution_count": 9
        }
      ]
    }
  ]
}